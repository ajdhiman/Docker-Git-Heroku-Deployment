{
 "cells": [
  {
   "cell_type": "code",
   "execution_count": 1,
   "metadata": {},
   "outputs": [],
   "source": [
    "from housing.entity.model_factory import ModelFactory,get_sample_model_config_yaml_file"
   ]
  },
  {
   "cell_type": "code",
   "execution_count": 2,
   "metadata": {},
   "outputs": [
    {
     "data": {
      "text/plain": [
       "'config\\\\model.yaml'"
      ]
     },
     "execution_count": 2,
     "metadata": {},
     "output_type": "execute_result"
    }
   ],
   "source": [
    "get_sample_model_config_yaml_file(export_dir=\"config\")"
   ]
  },
  {
   "cell_type": "code",
   "execution_count": 3,
   "metadata": {},
   "outputs": [],
   "source": [
    "model_config_file=r\"D:\\Temp Code\\ML Project\\Docker-Git-Heroku-Deployment\\notebook\\config\\model.yaml\""
   ]
  },
  {
   "cell_type": "code",
   "execution_count": 4,
   "metadata": {},
   "outputs": [],
   "source": [
    "model_factory = ModelFactory(model_config_path=model_config_file)"
   ]
  },
  {
   "cell_type": "code",
   "execution_count": 5,
   "metadata": {},
   "outputs": [
    {
     "name": "stdout",
     "output_type": "stream",
     "text": [
      "{'fit_intercept': True}\n",
      "{'n_estimators': 40, 'min_samples_leaf': 2}\n"
     ]
    }
   ],
   "source": [
    "model_list = model_factory.get_initialized_model_list()"
   ]
  },
  {
   "cell_type": "code",
   "execution_count": 6,
   "metadata": {},
   "outputs": [],
   "source": [
    "from housing.util.util import load_numpy_array_data"
   ]
  },
  {
   "cell_type": "code",
   "execution_count": 7,
   "metadata": {},
   "outputs": [],
   "source": [
    "data_file_path=r\"D:\\Temp Code\\ML Project\\Docker-Git-Heroku-Deployment\\housing\\artifact\\data_transformation\\2022-11-26-16-56-52\\transformed_data\\train\\housing.npz\"\n"
   ]
  },
  {
   "cell_type": "code",
   "execution_count": 8,
   "metadata": {},
   "outputs": [],
   "source": [
    "data = load_numpy_array_data(data_file_path)"
   ]
  },
  {
   "cell_type": "code",
   "execution_count": 9,
   "metadata": {},
   "outputs": [],
   "source": [
    "x,y = data[:,:-1],data[:,-1]"
   ]
  },
  {
   "cell_type": "code",
   "execution_count": 10,
   "metadata": {},
   "outputs": [
    {
     "name": "stdout",
     "output_type": "stream",
     "text": [
      "{'fit_intercept': True}\n",
      "{'n_estimators': 40, 'min_samples_leaf': 2}\n",
      "{'cv': 4, 'verbose': 2}\n",
      "Fitting 4 folds for each of 2 candidates, totalling 8 fits\n",
      "[CV] END .................................fit_intercept=True; total time=   0.0s\n",
      "[CV] END .................................fit_intercept=True; total time=   0.0s\n",
      "[CV] END .................................fit_intercept=True; total time=   0.0s\n",
      "[CV] END .................................fit_intercept=True; total time=   0.0s\n",
      "[CV] END ................................fit_intercept=False; total time=   0.0s\n",
      "[CV] END ................................fit_intercept=False; total time=   0.0s\n",
      "[CV] END ................................fit_intercept=False; total time=   0.0s\n",
      "[CV] END ................................fit_intercept=False; total time=   0.0s\n",
      "{'cv': 4, 'verbose': 2}\n",
      "Fitting 4 folds for each of 9 candidates, totalling 36 fits\n",
      "[CV] END ................min_samples_leaf=2, n_estimators=50; total time=   7.4s\n",
      "[CV] END ................min_samples_leaf=2, n_estimators=50; total time=   7.1s\n",
      "[CV] END ................min_samples_leaf=2, n_estimators=50; total time=   7.2s\n",
      "[CV] END ................min_samples_leaf=2, n_estimators=50; total time=   7.0s\n",
      "[CV] END ...............min_samples_leaf=2, n_estimators=100; total time=  13.8s\n",
      "[CV] END ...............min_samples_leaf=2, n_estimators=100; total time=  13.3s\n",
      "[CV] END ...............min_samples_leaf=2, n_estimators=100; total time=  13.7s\n",
      "[CV] END ...............min_samples_leaf=2, n_estimators=100; total time=  15.5s\n",
      "[CV] END ................min_samples_leaf=2, n_estimators=80; total time=  10.4s\n",
      "[CV] END ................min_samples_leaf=2, n_estimators=80; total time=  11.1s\n",
      "[CV] END ................min_samples_leaf=2, n_estimators=80; total time=  12.0s\n",
      "[CV] END ................min_samples_leaf=2, n_estimators=80; total time=  11.0s\n",
      "[CV] END ................min_samples_leaf=4, n_estimators=50; total time=   7.0s\n",
      "[CV] END ................min_samples_leaf=4, n_estimators=50; total time=   7.0s\n",
      "[CV] END ................min_samples_leaf=4, n_estimators=50; total time=   8.6s\n",
      "[CV] END ................min_samples_leaf=4, n_estimators=50; total time=   6.0s\n",
      "[CV] END ...............min_samples_leaf=4, n_estimators=100; total time=  13.5s\n",
      "[CV] END ...............min_samples_leaf=4, n_estimators=100; total time=  14.5s\n",
      "[CV] END ...............min_samples_leaf=4, n_estimators=100; total time=  12.2s\n",
      "[CV] END ...............min_samples_leaf=4, n_estimators=100; total time=  14.2s\n",
      "[CV] END ................min_samples_leaf=4, n_estimators=80; total time=  10.1s\n",
      "[CV] END ................min_samples_leaf=4, n_estimators=80; total time=   9.6s\n",
      "[CV] END ................min_samples_leaf=4, n_estimators=80; total time=   8.7s\n",
      "[CV] END ................min_samples_leaf=4, n_estimators=80; total time=   8.6s\n",
      "[CV] END ................min_samples_leaf=6, n_estimators=50; total time=   5.0s\n",
      "[CV] END ................min_samples_leaf=6, n_estimators=50; total time=   5.0s\n",
      "[CV] END ................min_samples_leaf=6, n_estimators=50; total time=   5.7s\n",
      "[CV] END ................min_samples_leaf=6, n_estimators=50; total time=   5.4s\n",
      "[CV] END ...............min_samples_leaf=6, n_estimators=100; total time=  10.4s\n",
      "[CV] END ...............min_samples_leaf=6, n_estimators=100; total time=  12.6s\n",
      "[CV] END ...............min_samples_leaf=6, n_estimators=100; total time=  12.6s\n",
      "[CV] END ...............min_samples_leaf=6, n_estimators=100; total time=  12.7s\n",
      "[CV] END ................min_samples_leaf=6, n_estimators=80; total time=   9.2s\n",
      "[CV] END ................min_samples_leaf=6, n_estimators=80; total time=  10.5s\n",
      "[CV] END ................min_samples_leaf=6, n_estimators=80; total time=   9.6s\n",
      "[CV] END ................min_samples_leaf=6, n_estimators=80; total time=   9.5s\n"
     ]
    },
    {
     "ename": "HousingException",
     "evalue": "\n        Error occured in script: \n        [ d:\\temp code\\ml project\\docker-git-heroku-deployment\\housing\\entity\\model_factory.py ] at \n        try block line number: [276] and exception block line number: [278] \n        error message: [\n        Error occured in script: \n        [ d:\\temp code\\ml project\\docker-git-heroku-deployment\\housing\\entity\\model_factory.py ] at \n        try block line number: [259] and exception block line number: [263] \n        error message: [None of Model has base accuracy: 0.9]\n        ]\n        ",
     "output_type": "error",
     "traceback": [
      "\u001b[1;31m---------------------------------------------------------------------------\u001b[0m",
      "\u001b[1;31mException\u001b[0m                                 Traceback (most recent call last)",
      "\u001b[1;32md:\\temp code\\ml project\\docker-git-heroku-deployment\\housing\\entity\\model_factory.py\u001b[0m in \u001b[0;36mget_best_model_from_grid_searched_best_model_list\u001b[1;34m(grid_searched_best_model_list, base_accuracy)\u001b[0m\n\u001b[0;32m    258\u001b[0m             \u001b[1;32mif\u001b[0m \u001b[1;32mnot\u001b[0m \u001b[0mbest_model\u001b[0m\u001b[1;33m:\u001b[0m\u001b[1;33m\u001b[0m\u001b[0m\n\u001b[1;32m--> 259\u001b[1;33m                 \u001b[1;32mraise\u001b[0m \u001b[0mException\u001b[0m\u001b[1;33m(\u001b[0m\u001b[1;34mf\"None of Model has base accuracy: {base_accuracy}\"\u001b[0m\u001b[1;33m)\u001b[0m\u001b[1;33m\u001b[0m\u001b[0m\n\u001b[0m\u001b[0;32m    260\u001b[0m             \u001b[0mlogging\u001b[0m\u001b[1;33m.\u001b[0m\u001b[0minfo\u001b[0m\u001b[1;33m(\u001b[0m\u001b[1;34mf\"Best model: {best_model}\"\u001b[0m\u001b[1;33m)\u001b[0m\u001b[1;33m\u001b[0m\u001b[0m\n",
      "\u001b[1;31mException\u001b[0m: None of Model has base accuracy: 0.9",
      "\nThe above exception was the direct cause of the following exception:\n",
      "\u001b[1;31mHousingException\u001b[0m                          Traceback (most recent call last)",
      "\u001b[1;32md:\\temp code\\ml project\\docker-git-heroku-deployment\\housing\\entity\\model_factory.py\u001b[0m in \u001b[0;36mget_best_model\u001b[1;34m(self, X, y, base_accuracy)\u001b[0m\n\u001b[0;32m    275\u001b[0m             return ModelFactory.get_best_model_from_grid_searched_best_model_list(grid_searched_best_model_list,\n\u001b[1;32m--> 276\u001b[1;33m                                                                                   base_accuracy=base_accuracy)\n\u001b[0m\u001b[0;32m    277\u001b[0m         \u001b[1;32mexcept\u001b[0m \u001b[0mException\u001b[0m \u001b[1;32mas\u001b[0m \u001b[0me\u001b[0m\u001b[1;33m:\u001b[0m\u001b[1;33m\u001b[0m\u001b[0m\n",
      "\u001b[1;32md:\\temp code\\ml project\\docker-git-heroku-deployment\\housing\\entity\\model_factory.py\u001b[0m in \u001b[0;36mget_best_model_from_grid_searched_best_model_list\u001b[1;34m(grid_searched_best_model_list, base_accuracy)\u001b[0m\n\u001b[0;32m    262\u001b[0m         \u001b[1;32mexcept\u001b[0m \u001b[0mException\u001b[0m \u001b[1;32mas\u001b[0m \u001b[0me\u001b[0m\u001b[1;33m:\u001b[0m\u001b[1;33m\u001b[0m\u001b[0m\n\u001b[1;32m--> 263\u001b[1;33m             \u001b[1;32mraise\u001b[0m \u001b[0mHousingException\u001b[0m\u001b[1;33m(\u001b[0m\u001b[0me\u001b[0m\u001b[1;33m,\u001b[0m \u001b[0msys\u001b[0m\u001b[1;33m)\u001b[0m \u001b[1;32mfrom\u001b[0m \u001b[0me\u001b[0m\u001b[1;33m\u001b[0m\u001b[0m\n\u001b[0m\u001b[0;32m    264\u001b[0m \u001b[1;33m\u001b[0m\u001b[0m\n",
      "\u001b[1;31mHousingException\u001b[0m: \n        Error occured in script: \n        [ d:\\temp code\\ml project\\docker-git-heroku-deployment\\housing\\entity\\model_factory.py ] at \n        try block line number: [259] and exception block line number: [263] \n        error message: [None of Model has base accuracy: 0.9]\n        ",
      "\nDuring handling of the above exception, another exception occurred:\n",
      "\u001b[1;31mHousingException\u001b[0m                          Traceback (most recent call last)",
      "\u001b[1;32m~\\AppData\\Local\\Temp\\ipykernel_7524\\1284479636.py\u001b[0m in \u001b[0;36m<module>\u001b[1;34m\u001b[0m\n\u001b[1;32m----> 1\u001b[1;33m \u001b[0mbest_model\u001b[0m \u001b[1;33m=\u001b[0m \u001b[0mmodel_factory\u001b[0m\u001b[1;33m.\u001b[0m\u001b[0mget_best_model\u001b[0m\u001b[1;33m(\u001b[0m\u001b[0mx\u001b[0m\u001b[1;33m,\u001b[0m\u001b[0my\u001b[0m\u001b[1;33m,\u001b[0m\u001b[1;36m0.9\u001b[0m\u001b[1;33m)\u001b[0m\u001b[1;33m\u001b[0m\u001b[0m\n\u001b[0m",
      "\u001b[1;32md:\\temp code\\ml project\\docker-git-heroku-deployment\\housing\\entity\\model_factory.py\u001b[0m in \u001b[0;36mget_best_model\u001b[1;34m(self, X, y, base_accuracy)\u001b[0m\n\u001b[0;32m    276\u001b[0m                                                                                   base_accuracy=base_accuracy)\n\u001b[0;32m    277\u001b[0m         \u001b[1;32mexcept\u001b[0m \u001b[0mException\u001b[0m \u001b[1;32mas\u001b[0m \u001b[0me\u001b[0m\u001b[1;33m:\u001b[0m\u001b[1;33m\u001b[0m\u001b[0m\n\u001b[1;32m--> 278\u001b[1;33m             \u001b[1;32mraise\u001b[0m \u001b[0mHousingException\u001b[0m\u001b[1;33m(\u001b[0m\u001b[0me\u001b[0m\u001b[1;33m,\u001b[0m \u001b[0msys\u001b[0m\u001b[1;33m)\u001b[0m\u001b[1;33m\u001b[0m\u001b[0m\n\u001b[0m",
      "\u001b[1;31mHousingException\u001b[0m: \n        Error occured in script: \n        [ d:\\temp code\\ml project\\docker-git-heroku-deployment\\housing\\entity\\model_factory.py ] at \n        try block line number: [276] and exception block line number: [278] \n        error message: [\n        Error occured in script: \n        [ d:\\temp code\\ml project\\docker-git-heroku-deployment\\housing\\entity\\model_factory.py ] at \n        try block line number: [259] and exception block line number: [263] \n        error message: [None of Model has base accuracy: 0.9]\n        ]\n        "
     ]
    }
   ],
   "source": [
    "best_model = model_factory.get_best_model(x,y,0.9)"
   ]
  },
  {
   "cell_type": "code",
   "execution_count": 11,
   "metadata": {},
   "outputs": [
    {
     "ename": "NameError",
     "evalue": "name 'best_model' is not defined",
     "output_type": "error",
     "traceback": [
      "\u001b[1;31m---------------------------------------------------------------------------\u001b[0m",
      "\u001b[1;31mNameError\u001b[0m                                 Traceback (most recent call last)",
      "\u001b[1;32m~\\AppData\\Local\\Temp\\ipykernel_7524\\2074715960.py\u001b[0m in \u001b[0;36m<module>\u001b[1;34m\u001b[0m\n\u001b[1;32m----> 1\u001b[1;33m \u001b[0mbest_model\u001b[0m\u001b[1;33m\u001b[0m\u001b[0m\n\u001b[0m",
      "\u001b[1;31mNameError\u001b[0m: name 'best_model' is not defined"
     ]
    }
   ],
   "source": [
    "best_model"
   ]
  },
  {
   "cell_type": "code",
   "execution_count": null,
   "metadata": {},
   "outputs": [],
   "source": [
    "best_model.best_model"
   ]
  },
  {
   "cell_type": "code",
   "execution_count": null,
   "metadata": {},
   "outputs": [],
   "source": [
    "model_factory.grid_searched_best_model_list[0]"
   ]
  },
  {
   "cell_type": "code",
   "execution_count": null,
   "metadata": {},
   "outputs": [],
   "source": [
    "model_factory.initialized_model_list"
   ]
  }
 ],
 "metadata": {
  "kernelspec": {
   "display_name": "Python 3.7.0 (conda)",
   "language": "python",
   "name": "python3"
  },
  "language_info": {
   "codemirror_mode": {
    "name": "ipython",
    "version": 3
   },
   "file_extension": ".py",
   "mimetype": "text/x-python",
   "name": "python",
   "nbconvert_exporter": "python",
   "pygments_lexer": "ipython3",
   "version": "3.7.0"
  },
  "orig_nbformat": 4,
  "vscode": {
   "interpreter": {
    "hash": "e6135cfe4d80aea22b334e01acca2c27c497127cad9c2ff0ec0b6d72f0f0caae"
   }
  }
 },
 "nbformat": 4,
 "nbformat_minor": 2
}
